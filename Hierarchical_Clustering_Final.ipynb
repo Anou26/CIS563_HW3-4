{
  "nbformat": 4,
  "nbformat_minor": 0,
  "metadata": {
    "colab": {
      "provenance": [],
      "authorship_tag": "ABX9TyMnlATZS/Ns7J4ALFd+lGno",
      "include_colab_link": true
    },
    "kernelspec": {
      "name": "python3",
      "display_name": "Python 3"
    },
    "language_info": {
      "name": "python"
    }
  },
  "cells": [
    {
      "cell_type": "markdown",
      "metadata": {
        "id": "view-in-github",
        "colab_type": "text"
      },
      "source": [
        "<a href=\"https://colab.research.google.com/github/Anou26/CIS563_HW3-4/blob/main/Hierarchical_Clustering_Final.ipynb\" target=\"_parent\"><img src=\"https://colab.research.google.com/assets/colab-badge.svg\" alt=\"Open In Colab\"/></a>"
      ]
    },
    {
      "cell_type": "markdown",
      "source": [
        "# **PROBLEM 6: HIERARCHICAL CLUSTERING**\n",
        "\n",
        "**Submitted by**\n",
        "\n",
        "**Name: Anoushka Mergoju**\n",
        "\n",
        "**SUID: 328542442**"
      ],
      "metadata": {
        "id": "nwyd9tybbB7V"
      }
    },
    {
      "cell_type": "code",
      "execution_count": 29,
      "metadata": {
        "id": "28yFz5jCa7tE"
      },
      "outputs": [],
      "source": [
        "#Importing the libraries\n",
        "import pandas as pd\n",
        "import numpy as np\n",
        "import matplotlib.pyplot as plt\n",
        "import seaborn as sns\n",
        "from sklearn.cluster import KMeans \n",
        "from sklearn.cluster import AgglomerativeClustering\n",
        "from sklearn.preprocessing import MinMaxScaler\n",
        "from sklearn.metrics import silhouette_score\n",
        "from sklearn.preprocessing import StandardScaler\n",
        "from scipy.cluster.hierarchy import dendrogram\n",
        "from scipy.cluster.hierarchy import dendrogram, linkage\n",
        "from matplotlib import pyplot as plt\n",
        "%matplotlib inline"
      ]
    },
    {
      "cell_type": "code",
      "source": [
        "#Importing the dataset\n",
        "data = pd.read_csv(\"/content/dim032_conv.csv\")"
      ],
      "metadata": {
        "id": "6vhIRK_ebFgS"
      },
      "execution_count": 2,
      "outputs": []
    },
    {
      "cell_type": "code",
      "source": [
        "data.head()"
      ],
      "metadata": {
        "colab": {
          "base_uri": "https://localhost:8080/",
          "height": 235
        },
        "id": "jQMYqvoabtCR",
        "outputId": "96f382ef-aa5c-4151-f40f-8ccdd6d574fb"
      },
      "execution_count": 3,
      "outputs": [
        {
          "output_type": "execute_result",
          "data": {
            "text/plain": [
              "   A00  A01  A02  A03  A04  A05  A06  A07  A08  A09  ...  A22  A23  A24  A25  \\\n",
              "0   84  152  100   52   95  186  169  106   37  186  ...  190   65  214  116   \n",
              "1   86  149  101   56   93  181  171  116   37  192  ...  191   79  215  116   \n",
              "2   83  149   99   51   96  187  169  108   34  191  ...  190   65  213  118   \n",
              "3   86  142  101   64  105  183  172  116   49  180  ...  186   69  209  120   \n",
              "4   89  145  108   54   91  180  175  107   35  192  ...  188   67  212  118   \n",
              "\n",
              "   A26  A27  A28  A29  A30  A31  \n",
              "0   75   55  123   65  154  177  \n",
              "1   76   60  130   71  151  181  \n",
              "2   73   55  125   63  155  178  \n",
              "3   68   56  123   67  144  181  \n",
              "4   91   50  135   58  147  165  \n",
              "\n",
              "[5 rows x 32 columns]"
            ],
            "text/html": [
              "\n",
              "  <div id=\"df-909b6c2c-9820-4ea9-b3e6-be400bcaef18\">\n",
              "    <div class=\"colab-df-container\">\n",
              "      <div>\n",
              "<style scoped>\n",
              "    .dataframe tbody tr th:only-of-type {\n",
              "        vertical-align: middle;\n",
              "    }\n",
              "\n",
              "    .dataframe tbody tr th {\n",
              "        vertical-align: top;\n",
              "    }\n",
              "\n",
              "    .dataframe thead th {\n",
              "        text-align: right;\n",
              "    }\n",
              "</style>\n",
              "<table border=\"1\" class=\"dataframe\">\n",
              "  <thead>\n",
              "    <tr style=\"text-align: right;\">\n",
              "      <th></th>\n",
              "      <th>A00</th>\n",
              "      <th>A01</th>\n",
              "      <th>A02</th>\n",
              "      <th>A03</th>\n",
              "      <th>A04</th>\n",
              "      <th>A05</th>\n",
              "      <th>A06</th>\n",
              "      <th>A07</th>\n",
              "      <th>A08</th>\n",
              "      <th>A09</th>\n",
              "      <th>...</th>\n",
              "      <th>A22</th>\n",
              "      <th>A23</th>\n",
              "      <th>A24</th>\n",
              "      <th>A25</th>\n",
              "      <th>A26</th>\n",
              "      <th>A27</th>\n",
              "      <th>A28</th>\n",
              "      <th>A29</th>\n",
              "      <th>A30</th>\n",
              "      <th>A31</th>\n",
              "    </tr>\n",
              "  </thead>\n",
              "  <tbody>\n",
              "    <tr>\n",
              "      <th>0</th>\n",
              "      <td>84</td>\n",
              "      <td>152</td>\n",
              "      <td>100</td>\n",
              "      <td>52</td>\n",
              "      <td>95</td>\n",
              "      <td>186</td>\n",
              "      <td>169</td>\n",
              "      <td>106</td>\n",
              "      <td>37</td>\n",
              "      <td>186</td>\n",
              "      <td>...</td>\n",
              "      <td>190</td>\n",
              "      <td>65</td>\n",
              "      <td>214</td>\n",
              "      <td>116</td>\n",
              "      <td>75</td>\n",
              "      <td>55</td>\n",
              "      <td>123</td>\n",
              "      <td>65</td>\n",
              "      <td>154</td>\n",
              "      <td>177</td>\n",
              "    </tr>\n",
              "    <tr>\n",
              "      <th>1</th>\n",
              "      <td>86</td>\n",
              "      <td>149</td>\n",
              "      <td>101</td>\n",
              "      <td>56</td>\n",
              "      <td>93</td>\n",
              "      <td>181</td>\n",
              "      <td>171</td>\n",
              "      <td>116</td>\n",
              "      <td>37</td>\n",
              "      <td>192</td>\n",
              "      <td>...</td>\n",
              "      <td>191</td>\n",
              "      <td>79</td>\n",
              "      <td>215</td>\n",
              "      <td>116</td>\n",
              "      <td>76</td>\n",
              "      <td>60</td>\n",
              "      <td>130</td>\n",
              "      <td>71</td>\n",
              "      <td>151</td>\n",
              "      <td>181</td>\n",
              "    </tr>\n",
              "    <tr>\n",
              "      <th>2</th>\n",
              "      <td>83</td>\n",
              "      <td>149</td>\n",
              "      <td>99</td>\n",
              "      <td>51</td>\n",
              "      <td>96</td>\n",
              "      <td>187</td>\n",
              "      <td>169</td>\n",
              "      <td>108</td>\n",
              "      <td>34</td>\n",
              "      <td>191</td>\n",
              "      <td>...</td>\n",
              "      <td>190</td>\n",
              "      <td>65</td>\n",
              "      <td>213</td>\n",
              "      <td>118</td>\n",
              "      <td>73</td>\n",
              "      <td>55</td>\n",
              "      <td>125</td>\n",
              "      <td>63</td>\n",
              "      <td>155</td>\n",
              "      <td>178</td>\n",
              "    </tr>\n",
              "    <tr>\n",
              "      <th>3</th>\n",
              "      <td>86</td>\n",
              "      <td>142</td>\n",
              "      <td>101</td>\n",
              "      <td>64</td>\n",
              "      <td>105</td>\n",
              "      <td>183</td>\n",
              "      <td>172</td>\n",
              "      <td>116</td>\n",
              "      <td>49</td>\n",
              "      <td>180</td>\n",
              "      <td>...</td>\n",
              "      <td>186</td>\n",
              "      <td>69</td>\n",
              "      <td>209</td>\n",
              "      <td>120</td>\n",
              "      <td>68</td>\n",
              "      <td>56</td>\n",
              "      <td>123</td>\n",
              "      <td>67</td>\n",
              "      <td>144</td>\n",
              "      <td>181</td>\n",
              "    </tr>\n",
              "    <tr>\n",
              "      <th>4</th>\n",
              "      <td>89</td>\n",
              "      <td>145</td>\n",
              "      <td>108</td>\n",
              "      <td>54</td>\n",
              "      <td>91</td>\n",
              "      <td>180</td>\n",
              "      <td>175</td>\n",
              "      <td>107</td>\n",
              "      <td>35</td>\n",
              "      <td>192</td>\n",
              "      <td>...</td>\n",
              "      <td>188</td>\n",
              "      <td>67</td>\n",
              "      <td>212</td>\n",
              "      <td>118</td>\n",
              "      <td>91</td>\n",
              "      <td>50</td>\n",
              "      <td>135</td>\n",
              "      <td>58</td>\n",
              "      <td>147</td>\n",
              "      <td>165</td>\n",
              "    </tr>\n",
              "  </tbody>\n",
              "</table>\n",
              "<p>5 rows × 32 columns</p>\n",
              "</div>\n",
              "      <button class=\"colab-df-convert\" onclick=\"convertToInteractive('df-909b6c2c-9820-4ea9-b3e6-be400bcaef18')\"\n",
              "              title=\"Convert this dataframe to an interactive table.\"\n",
              "              style=\"display:none;\">\n",
              "        \n",
              "  <svg xmlns=\"http://www.w3.org/2000/svg\" height=\"24px\"viewBox=\"0 0 24 24\"\n",
              "       width=\"24px\">\n",
              "    <path d=\"M0 0h24v24H0V0z\" fill=\"none\"/>\n",
              "    <path d=\"M18.56 5.44l.94 2.06.94-2.06 2.06-.94-2.06-.94-.94-2.06-.94 2.06-2.06.94zm-11 1L8.5 8.5l.94-2.06 2.06-.94-2.06-.94L8.5 2.5l-.94 2.06-2.06.94zm10 10l.94 2.06.94-2.06 2.06-.94-2.06-.94-.94-2.06-.94 2.06-2.06.94z\"/><path d=\"M17.41 7.96l-1.37-1.37c-.4-.4-.92-.59-1.43-.59-.52 0-1.04.2-1.43.59L10.3 9.45l-7.72 7.72c-.78.78-.78 2.05 0 2.83L4 21.41c.39.39.9.59 1.41.59.51 0 1.02-.2 1.41-.59l7.78-7.78 2.81-2.81c.8-.78.8-2.07 0-2.86zM5.41 20L4 18.59l7.72-7.72 1.47 1.35L5.41 20z\"/>\n",
              "  </svg>\n",
              "      </button>\n",
              "      \n",
              "  <style>\n",
              "    .colab-df-container {\n",
              "      display:flex;\n",
              "      flex-wrap:wrap;\n",
              "      gap: 12px;\n",
              "    }\n",
              "\n",
              "    .colab-df-convert {\n",
              "      background-color: #E8F0FE;\n",
              "      border: none;\n",
              "      border-radius: 50%;\n",
              "      cursor: pointer;\n",
              "      display: none;\n",
              "      fill: #1967D2;\n",
              "      height: 32px;\n",
              "      padding: 0 0 0 0;\n",
              "      width: 32px;\n",
              "    }\n",
              "\n",
              "    .colab-df-convert:hover {\n",
              "      background-color: #E2EBFA;\n",
              "      box-shadow: 0px 1px 2px rgba(60, 64, 67, 0.3), 0px 1px 3px 1px rgba(60, 64, 67, 0.15);\n",
              "      fill: #174EA6;\n",
              "    }\n",
              "\n",
              "    [theme=dark] .colab-df-convert {\n",
              "      background-color: #3B4455;\n",
              "      fill: #D2E3FC;\n",
              "    }\n",
              "\n",
              "    [theme=dark] .colab-df-convert:hover {\n",
              "      background-color: #434B5C;\n",
              "      box-shadow: 0px 1px 3px 1px rgba(0, 0, 0, 0.15);\n",
              "      filter: drop-shadow(0px 1px 2px rgba(0, 0, 0, 0.3));\n",
              "      fill: #FFFFFF;\n",
              "    }\n",
              "  </style>\n",
              "\n",
              "      <script>\n",
              "        const buttonEl =\n",
              "          document.querySelector('#df-909b6c2c-9820-4ea9-b3e6-be400bcaef18 button.colab-df-convert');\n",
              "        buttonEl.style.display =\n",
              "          google.colab.kernel.accessAllowed ? 'block' : 'none';\n",
              "\n",
              "        async function convertToInteractive(key) {\n",
              "          const element = document.querySelector('#df-909b6c2c-9820-4ea9-b3e6-be400bcaef18');\n",
              "          const dataTable =\n",
              "            await google.colab.kernel.invokeFunction('convertToInteractive',\n",
              "                                                     [key], {});\n",
              "          if (!dataTable) return;\n",
              "\n",
              "          const docLinkHtml = 'Like what you see? Visit the ' +\n",
              "            '<a target=\"_blank\" href=https://colab.research.google.com/notebooks/data_table.ipynb>data table notebook</a>'\n",
              "            + ' to learn more about interactive tables.';\n",
              "          element.innerHTML = '';\n",
              "          dataTable['output_type'] = 'display_data';\n",
              "          await google.colab.output.renderOutput(dataTable, element);\n",
              "          const docLink = document.createElement('div');\n",
              "          docLink.innerHTML = docLinkHtml;\n",
              "          element.appendChild(docLink);\n",
              "        }\n",
              "      </script>\n",
              "    </div>\n",
              "  </div>\n",
              "  "
            ]
          },
          "metadata": {},
          "execution_count": 3
        }
      ]
    },
    {
      "cell_type": "code",
      "source": [
        "print(data.isnull())"
      ],
      "metadata": {
        "colab": {
          "base_uri": "https://localhost:8080/"
        },
        "id": "OFkhau-rbuhY",
        "outputId": "eee494d1-3509-40ca-f971-a1453b6aee8f"
      },
      "execution_count": 7,
      "outputs": [
        {
          "output_type": "stream",
          "name": "stdout",
          "text": [
            "        A00    A01    A02    A03    A04    A05    A06    A07    A08    A09  \\\n",
            "0     False  False  False  False  False  False  False  False  False  False   \n",
            "1     False  False  False  False  False  False  False  False  False  False   \n",
            "2     False  False  False  False  False  False  False  False  False  False   \n",
            "3     False  False  False  False  False  False  False  False  False  False   \n",
            "4     False  False  False  False  False  False  False  False  False  False   \n",
            "...     ...    ...    ...    ...    ...    ...    ...    ...    ...    ...   \n",
            "1019  False  False  False  False  False  False  False  False  False  False   \n",
            "1020  False  False  False  False  False  False  False  False  False  False   \n",
            "1021  False  False  False  False  False  False  False  False  False  False   \n",
            "1022  False  False  False  False  False  False  False  False  False  False   \n",
            "1023  False  False  False  False  False  False  False  False  False  False   \n",
            "\n",
            "      ...    A22    A23    A24    A25    A26    A27    A28    A29    A30  \\\n",
            "0     ...  False  False  False  False  False  False  False  False  False   \n",
            "1     ...  False  False  False  False  False  False  False  False  False   \n",
            "2     ...  False  False  False  False  False  False  False  False  False   \n",
            "3     ...  False  False  False  False  False  False  False  False  False   \n",
            "4     ...  False  False  False  False  False  False  False  False  False   \n",
            "...   ...    ...    ...    ...    ...    ...    ...    ...    ...    ...   \n",
            "1019  ...  False  False  False  False  False  False  False  False  False   \n",
            "1020  ...  False  False  False  False  False  False  False  False  False   \n",
            "1021  ...  False  False  False  False  False  False  False  False  False   \n",
            "1022  ...  False  False  False  False  False  False  False  False  False   \n",
            "1023  ...  False  False  False  False  False  False  False  False  False   \n",
            "\n",
            "        A31  \n",
            "0     False  \n",
            "1     False  \n",
            "2     False  \n",
            "3     False  \n",
            "4     False  \n",
            "...     ...  \n",
            "1019  False  \n",
            "1020  False  \n",
            "1021  False  \n",
            "1022  False  \n",
            "1023  False  \n",
            "\n",
            "[1024 rows x 32 columns]\n"
          ]
        }
      ]
    },
    {
      "cell_type": "code",
      "source": [
        "data.shape"
      ],
      "metadata": {
        "colab": {
          "base_uri": "https://localhost:8080/"
        },
        "id": "qo_Bw7ZzbxqB",
        "outputId": "30b0aaa3-8d6a-4185-b7b7-5a3bc726bdba"
      },
      "execution_count": 8,
      "outputs": [
        {
          "output_type": "execute_result",
          "data": {
            "text/plain": [
              "(1024, 32)"
            ]
          },
          "metadata": {},
          "execution_count": 8
        }
      ]
    },
    {
      "cell_type": "markdown",
      "source": [
        "**(i) Using k-means (you can directly use packages from sklearn, etc.) obtain clusters (try different k). Plot SSE changes with respect to k to obtain an optimal k using this plot (there is no universal answer and the answer might change with randomization).**"
      ],
      "metadata": {
        "id": "j4SYu7oQejST"
      }
    },
    {
      "cell_type": "code",
      "source": [
        "#Building the model\n",
        "Model_arg = {\"init\":\"random\", \"n_init\":10, \"max_iter\":10, \"random_state\": 23}\n",
        "ss_error = []"
      ],
      "metadata": {
        "id": "H_dcWNtBcUz4"
      },
      "execution_count": 13,
      "outputs": []
    },
    {
      "cell_type": "code",
      "source": [
        "for k_value in range(1,30):\n",
        "    Model_Kmeans = KMeans(n_clusters=k_value, **Model_arg)\n",
        "    Model_Kmeans.fit(data)\n",
        "    ss_error.append(Model_Kmeans.inertia_)"
      ],
      "metadata": {
        "id": "MUNdFXcmclT-"
      },
      "execution_count": 14,
      "outputs": []
    },
    {
      "cell_type": "code",
      "source": [
        "#Plotting the SSE changes with respect to k\n",
        "plt.style.use(\"fivethirtyeight\")\n",
        "plt.figure(figsize=(15,10))\n",
        "plt.plot(range(1,30), ss_error)\n",
        "plt.xticks(range(1,30))\n",
        "plt.title(\"SSE changes wrt to k\")\n",
        "plt.xlabel(\"Number of clusters\")\n",
        "plt.ylabel(\"Sum of squared errors\")\n",
        "plt.show()"
      ],
      "metadata": {
        "colab": {
          "base_uri": "https://localhost:8080/",
          "height": 674
        },
        "id": "C80Thkpzcp7r",
        "outputId": "adaffabe-ef52-4890-e82b-e7bfdec03904"
      },
      "execution_count": 18,
      "outputs": [
        {
          "output_type": "display_data",
          "data": {
            "text/plain": [
              "<Figure size 1080x720 with 1 Axes>"
            ],
            "image/png": "[encoded data removed]"
          },
          "metadata": {}
        }
      ]
    },
    {
      "cell_type": "code",
      "source": [
        "kmeans = KMeans(n_clusters=4, init ='random', max_iter=10, n_init=10,random_state=0 )\n",
        "X=data.iloc[1:30].values\n",
        "y_kmeans = kmeans.fit_predict(X)"
      ],
      "metadata": {
        "id": "U1eGykLuc0Xe"
      },
      "execution_count": 26,
      "outputs": []
    },
    {
      "cell_type": "markdown",
      "source": [
        "**(ii) Using these optimal clusters, in each iteration, merge the two closest clusters based on their MIN/MAX/average distances. This can be implemented as a function that takes parameters**\n",
        "**(iii)Track the merging history and plot the hierarchical clustering dendrograms (three dendrograms for min/max/average)**"
      ],
      "metadata": {
        "id": "QDXve2eDergX"
      }
    },
    {
      "cell_type": "code",
      "source": [
        "#MINIMUM\n",
        "minimum=linkage(X,'single','euclidean')\n",
        "fig=plt.figure(figsize=(15,9))\n",
        "dendrogram(minimum)\n",
        "plt.show()"
      ],
      "metadata": {
        "colab": {
          "base_uri": "https://localhost:8080/",
          "height": 540
        },
        "id": "Nr5Nmv9LdsP8",
        "outputId": "f96b627c-d47f-4172-f457-9b31b0aab925"
      },
      "execution_count": 32,
      "outputs": [
        {
          "output_type": "display_data",
          "data": {
            "text/plain": [
              "<Figure size 1080x648 with 1 Axes>"
            ],
            "image/png": "[encoded data removed]"
          },
          "metadata": {
            "needs_background": "light"
          }
        }
      ]
    },
    {
      "cell_type": "code",
      "source": [
        "#MAXIMUM\n",
        "maximum=linkage(X,'complete','euclidean')\n",
        "fig=plt.figure(figsize=(15,9))\n",
        "dendrogram(maximum)\n",
        "plt.show()"
      ],
      "metadata": {
        "colab": {
          "base_uri": "https://localhost:8080/",
          "height": 540
        },
        "id": "FrxHCl59eMki",
        "outputId": "e4e2f936-333f-43c6-ff57-069f743bbb54"
      },
      "execution_count": 33,
      "outputs": [
        {
          "output_type": "display_data",
          "data": {
            "text/plain": [
              "<Figure size 1080x648 with 1 Axes>"
            ],
            "image/png": "[encoded data removed]"
          },
          "metadata": {
            "needs_background": "light"
          }
        }
      ]
    },
    {
      "cell_type": "code",
      "source": [
        "#AVERAGE\n",
        "average=linkage(X,'average','euclidean')\n",
        "fig=plt.figure(figsize=(15,9))\n",
        "dendrogram(average)\n",
        "plt.show()"
      ],
      "metadata": {
        "colab": {
          "base_uri": "https://localhost:8080/",
          "height": 540
        },
        "id": "40hGEg7WfFFk",
        "outputId": "6693b1e1-f8ca-46a4-803e-2f3832523d3c"
      },
      "execution_count": 35,
      "outputs": [
        {
          "output_type": "display_data",
          "data": {
            "text/plain": [
              "<Figure size 1080x648 with 1 Axes>"
            ],
            "image/png": "[encoded data removed]"
          },
          "metadata": {
            "needs_background": "light"
          }
        }
      ]
    },
    {
      "cell_type": "code",
      "source": [],
      "metadata": {
        "id": "7gtJwgxLfOtu"
      },
      "execution_count": null,
      "outputs": []
    }
  ]
}